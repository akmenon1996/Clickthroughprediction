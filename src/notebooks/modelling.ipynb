{
 "cells": [
  {
   "cell_type": "code",
   "execution_count": 1,
   "metadata": {},
   "outputs": [
    {
     "data": {
      "text/markdown": [
       "# Data Modelling\n"
      ],
      "text/plain": [
       "<IPython.core.display.Markdown object>"
      ]
     },
     "metadata": {},
     "output_type": "display_data"
    }
   ],
   "source": [
    "%%markdown\n",
    "# Data Modelling"
   ]
  },
  {
   "cell_type": "code",
   "execution_count": 2,
   "metadata": {},
   "outputs": [],
   "source": [
    "import pandas as pd\n",
    "import numpy as np \n",
    "import matplotlib.pyplot as plt\n",
    "import os \n",
    "import seaborn as sns \n",
    "import sklearn as skl\n",
    "from imblearn.over_sampling import SMOTE\n",
    "from scipy.stats import norm \n",
    "import statsmodels.api as sm\n",
    "from sklearn.preprocessing import StandardScaler \n",
    "from sklearn.model_selection import train_test_split,cross_validate\n",
    "from sklearn.linear_model import LogisticRegression  \n",
    "from sklearn.metrics import confusion_matrix, accuracy_score, classification_report\n",
    "from sklearn.svm import SVC\n",
    "from numpy import loadtxt\n",
    "from xgboost import XGBClassifier\n",
    "from sklearn.model_selection import train_test_split\n",
    "from sklearn.metrics import accuracy_score\n",
    "from keras.models import Sequential\n",
    "from keras.layers import Dense\n",
    "from keras.wrappers.scikit_learn import KerasClassifier\n",
    "from sklearn.model_selection import cross_val_score\n",
    "from sklearn.preprocessing import LabelEncoder\n",
    "from sklearn.model_selection import StratifiedKFold\n",
    "\n",
    "import warnings  \n",
    "warnings.filterwarnings('ignore') \n",
    "%matplotlib inline "
   ]
  },
  {
   "cell_type": "code",
   "execution_count": 3,
   "metadata": {},
   "outputs": [
    {
     "name": "stdout",
     "output_type": "stream",
     "text": [
      "After OverSampling, the shape of train_X: (11006, 35)\n",
      "After OverSampling, the shape of train_y: (11006,) \n",
      "\n",
      "After OverSampling, counts of label '1': 5503\n",
      "After OverSampling, counts of label '0': 5503\n"
     ]
    }
   ],
   "source": [
    "data = pd.read_csv('created_data/feature_engineered_data.csv')\n",
    "X = data.drop(['Response'],axis= 1)\n",
    "y = data['Response']\n",
    "X_train, X_test, y_train, y_test = train_test_split(X, y, test_size = 0.3, random_state = 0) \n",
    "sm = SMOTE(random_state = 2) \n",
    "X_train_res, y_train_res = sm.fit_sample(X_train, y_train.ravel()) \n",
    "  \n",
    "print('After OverSampling, the shape of train_X: {}'.format(X_train_res.shape)) \n",
    "print('After OverSampling, the shape of train_y: {} \\n'.format(y_train_res.shape)) \n",
    "  \n",
    "print(\"After OverSampling, counts of label '1': {}\".format(sum(y_train_res == 1))) \n",
    "print(\"After OverSampling, counts of label '0': {}\".format(sum(y_train_res == 0)))"
   ]
  },
  {
   "cell_type": "code",
   "execution_count": 41,
   "metadata": {},
   "outputs": [
    {
     "data": {
      "text/markdown": [
       "## Building Logisting Regression Model \n",
       "\n",
       "The logistic regression model will be our baseline model. I do not expect to perform great but it should give us an indication of what kind of \n",
       "scores we should look to expect. \n"
      ],
      "text/plain": [
       "<IPython.core.display.Markdown object>"
      ]
     },
     "metadata": {},
     "output_type": "display_data"
    }
   ],
   "source": [
    "%%markdown\n",
    "## Building Logisting Regression Model \n",
    "\n",
    "The logistic regression model will be our baseline model. I do not expect to perform great but it should give us an indication of what kind of \n",
    "scores we should look to expect. "
   ]
  },
  {
   "cell_type": "code",
   "execution_count": 5,
   "metadata": {},
   "outputs": [
    {
     "name": "stdout",
     "output_type": "stream",
     "text": [
      "              precision    recall  f1-score   support\n",
      "\n",
      "           0       0.90      0.85      0.87      2323\n",
      "           1       0.35      0.46      0.40       418\n",
      "\n",
      "    accuracy                           0.79      2741\n",
      "   macro avg       0.62      0.65      0.64      2741\n",
      "weighted avg       0.81      0.79      0.80      2741\n",
      "\n",
      "Cross validation test_score 0.7831287982797018\n"
     ]
    }
   ],
   "source": [
    "lr1 = LogisticRegression() \n",
    "lr1.fit(X_train_res, y_train_res.ravel()) \n",
    "predictions = lr1.predict(X_test) \n",
    "  \n",
    "# print classification report \n",
    "print(classification_report(y_test, predictions))\n",
    "\n",
    "cross_val_score_svc = cross_validate(lr1, X_train_res, y_train_res,cv = 5)\n",
    "print('Cross validation test_score',cross_val_score_svc['test_score'].mean())"
   ]
  },
  {
   "cell_type": "code",
   "execution_count": 43,
   "metadata": {},
   "outputs": [
    {
     "data": {
      "text/markdown": [
       "**As I expected the F1 score is average, but more importantly the precision and recall for the class 1 is terrible. This is very\n",
       "likely because of the synthetic data generated for the ' Class 1 '.**\n"
      ],
      "text/plain": [
       "<IPython.core.display.Markdown object>"
      ]
     },
     "metadata": {},
     "output_type": "display_data"
    }
   ],
   "source": [
    "%%markdown \n",
    "**As I expected the F1 score is average, but more importantly the precision and recall for the class 1 is terrible. This is very\n",
    "likely because of the synthetic data generated for the ' Class 1 '.**"
   ]
  },
  {
   "cell_type": "code",
   "execution_count": 6,
   "metadata": {},
   "outputs": [
    {
     "data": {
      "text/markdown": [
       "## Building Support Vector Classification Model \n"
      ],
      "text/plain": [
       "<IPython.core.display.Markdown object>"
      ]
     },
     "metadata": {},
     "output_type": "display_data"
    }
   ],
   "source": [
    "%%markdown\n",
    "## Building Support Vector Classification Model "
   ]
  },
  {
   "cell_type": "code",
   "execution_count": 7,
   "metadata": {},
   "outputs": [
    {
     "name": "stdout",
     "output_type": "stream",
     "text": [
      "[[2015  155]\n",
      " [ 308  263]]\n",
      "accuracy_score: 0.8310835461510397\n",
      "              precision    recall  f1-score   support\n",
      "\n",
      "           0       0.87      0.93      0.90      2170\n",
      "           1       0.63      0.46      0.53       571\n",
      "\n",
      "    accuracy                           0.83      2741\n",
      "   macro avg       0.75      0.69      0.71      2741\n",
      "weighted avg       0.82      0.83      0.82      2741\n",
      "\n",
      "Cross validation test_score 0.8800739157042397\n"
     ]
    }
   ],
   "source": [
    "svc = SVC()\n",
    "svc.fit(X_train_res, y_train_res)\n",
    "svc_pred = svc.predict(X_test)\n",
    "\n",
    "print(confusion_matrix(svc_pred,y_test))\n",
    "print('accuracy_score:',accuracy_score(svc_pred, y_test))\n",
    "print(classification_report(svc_pred, y_test))\n",
    "\n",
    "cross_val_score_svc = cross_validate(svc, X_train_res, y_train_res,cv = 5)\n",
    "print('Cross validation test_score',cross_val_score_svc['test_score'].mean())"
   ]
  },
  {
   "cell_type": "code",
   "execution_count": 45,
   "metadata": {},
   "outputs": [
    {
     "data": {
      "text/markdown": [
       "**The SVC performs slightly better but the precision and recall still does not look good and needs to be improved.**\n"
      ],
      "text/plain": [
       "<IPython.core.display.Markdown object>"
      ]
     },
     "metadata": {},
     "output_type": "display_data"
    }
   ],
   "source": [
    "%%markdown\n",
    "**The SVC performs slightly better but the precision and recall still does not look good and needs to be improved.**"
   ]
  },
  {
   "cell_type": "code",
   "execution_count": 8,
   "metadata": {},
   "outputs": [
    {
     "data": {
      "text/markdown": [
       "## Building Random Forest Classifier Model \n"
      ],
      "text/plain": [
       "<IPython.core.display.Markdown object>"
      ]
     },
     "metadata": {},
     "output_type": "display_data"
    }
   ],
   "source": [
    "%%markdown\n",
    "## Building Random Forest Classifier Model "
   ]
  },
  {
   "cell_type": "code",
   "execution_count": 9,
   "metadata": {},
   "outputs": [
    {
     "name": "stdout",
     "output_type": "stream",
     "text": [
      "[[2245   82]\n",
      " [  78  336]]\n",
      "Accuracy score: 0.9416271433783291\n",
      "              precision    recall  f1-score   support\n",
      "\n",
      "           0       0.97      0.96      0.97      2327\n",
      "           1       0.80      0.81      0.81       414\n",
      "\n",
      "    accuracy                           0.94      2741\n",
      "   macro avg       0.89      0.89      0.89      2741\n",
      "weighted avg       0.94      0.94      0.94      2741\n",
      "\n",
      "Cross validation test_score 0.9573909720666149\n"
     ]
    }
   ],
   "source": [
    "from sklearn.ensemble import RandomForestClassifier\n",
    "rfc = RandomForestClassifier()\n",
    "rfc.fit(X_train_res, y_train_res)\n",
    "rfc_pred = rfc.predict(X_test)\n",
    "\n",
    "print(confusion_matrix(rfc_pred,y_test))\n",
    "print('Accuracy score:',accuracy_score(rfc_pred, y_test))\n",
    "print(classification_report(rfc_pred, y_test))\n",
    "\n",
    "cross_val_score_rfc = cross_validate(rfc, X_train_res, y_train_res,cv = 5)\n",
    "\n",
    "print('Cross validation test_score',cross_val_score_rfc['test_score'].mean())"
   ]
  },
  {
   "cell_type": "code",
   "execution_count": 48,
   "metadata": {},
   "outputs": [
    {
     "data": {
      "text/markdown": [
       "**The Random Forest Classifier performs much better. \n",
       "We see a pretty decent precision and recall for both of our classes and\n",
       "the F1 score also sits pretty high at 0.95.**\n"
      ],
      "text/plain": [
       "<IPython.core.display.Markdown object>"
      ]
     },
     "metadata": {},
     "output_type": "display_data"
    }
   ],
   "source": [
    "%%markdown \n",
    "**The Random Forest Classifier performs much better. \n",
    "We see a pretty decent precision and recall for both of our classes and\n",
    "the F1 score also sits pretty high at 0.95.**"
   ]
  },
  {
   "cell_type": "code",
   "execution_count": 10,
   "metadata": {},
   "outputs": [
    {
     "data": {
      "image/png": "[encoded data removed]",
      "text/plain": [
       "<Figure size 864x504 with 1 Axes>"
      ]
     },
     "metadata": {
      "needs_background": "light"
     },
     "output_type": "display_data"
    }
   ],
   "source": [
    "feature_imp = rfc.feature_importances_.round(3)\n",
    "ser_rank = pd.Series(feature_imp, index=X.columns).sort_values(ascending = False)\n",
    "\n",
    "plt.figure(figsize=(12,7))\n",
    "sns.barplot(x= ser_rank.values, y = ser_rank.index, palette='deep')\n",
    "plt.xlabel('relative importance')\n",
    "plt.show()"
   ]
  },
  {
   "cell_type": "code",
   "execution_count": 50,
   "metadata": {},
   "outputs": [
    {
     "data": {
      "text/markdown": [
       "**We also look at the features that the RF Classifier gives importance to. According to the RFC the most important features are**\n",
       "- Total Claim Amount\n",
       "- Monthly Premium Auto \n",
       "- Income \n"
      ],
      "text/plain": [
       "<IPython.core.display.Markdown object>"
      ]
     },
     "metadata": {},
     "output_type": "display_data"
    }
   ],
   "source": [
    "%%markdown\n",
    "**We also look at the features that the RF Classifier gives importance to. According to the RFC the most important features are**\n",
    "- Total Claim Amount\n",
    "- Monthly Premium Auto \n",
    "- Income "
   ]
  },
  {
   "cell_type": "code",
   "execution_count": 11,
   "metadata": {},
   "outputs": [
    {
     "data": {
      "text/markdown": [
       "## Building XGBoost Classifier Model \n"
      ],
      "text/plain": [
       "<IPython.core.display.Markdown object>"
      ]
     },
     "metadata": {},
     "output_type": "display_data"
    }
   ],
   "source": [
    "%%markdown\n",
    "## Building XGBoost Classifier Model "
   ]
  },
  {
   "cell_type": "code",
   "execution_count": 33,
   "metadata": {},
   "outputs": [
    {
     "name": "stdout",
     "output_type": "stream",
     "text": [
      "[[2216   36]\n",
      " [ 107  382]]\n",
      "Accuracy score: 0.9478292593943816\n",
      "              precision    recall  f1-score   support\n",
      "\n",
      "           0       0.95      0.98      0.97      2252\n",
      "           1       0.91      0.78      0.84       489\n",
      "\n",
      "    accuracy                           0.95      2741\n",
      "   macro avg       0.93      0.88      0.91      2741\n",
      "weighted avg       0.95      0.95      0.95      2741\n",
      "\n",
      "Cross validation test_score 0.9556625858694401\n"
     ]
    }
   ],
   "source": [
    "xgbc = XGBClassifier()\n",
    "xgbc.fit(X_train_res, y_train_res)\n",
    "xgbc_pred = xgbc.predict(X_test)\n",
    "\n",
    "print(confusion_matrix(xgbc_pred,y_test))\n",
    "print('Accuracy score:',accuracy_score(xgbc_pred, y_test))\n",
    "print(classification_report(xgbc_pred, y_test))\n",
    "\n",
    "cross_val_score_xgbc = cross_validate(xgbc, X_train_res, y_train_res,cv = 5)\n",
    "\n",
    "print('Cross validation test_score',cross_val_score_xgbc['test_score'].mean())"
   ]
  },
  {
   "cell_type": "code",
   "execution_count": 54,
   "metadata": {},
   "outputs": [
    {
     "data": {
      "text/markdown": [
       "![Precision vs Recall](../../media/precisionvsrecall.png)\n"
      ],
      "text/plain": [
       "<IPython.core.display.Markdown object>"
      ]
     },
     "metadata": {},
     "output_type": "display_data"
    }
   ],
   "source": [
    "%%markdown\n",
    "![Precision vs Recall](../../media/precisionvsrecall.png)"
   ]
  },
  {
   "cell_type": "code",
   "execution_count": 53,
   "metadata": {},
   "outputs": [
    {
     "data": {
      "text/markdown": [
       "**The XGBoost classifier does quite well too. The precision of class 1 is much better than any of the other models. The recall however, is slightly lesser than Random Forest Classifier. \n",
       "However, the overall F1 score is higher. This is why, we choose the XGBoost classifier as our final model.**\n"
      ],
      "text/plain": [
       "<IPython.core.display.Markdown object>"
      ]
     },
     "metadata": {},
     "output_type": "display_data"
    }
   ],
   "source": [
    "%%markdown\n",
    "**The XGBoost classifier does quite well too. The precision of class 1 is much better than any of the other models. The recall however, is slightly lesser than Random Forest Classifier. \n",
    "However, the overall F1 score is higher. This is why, we choose the XGBoost classifier as our final model.**"
   ]
  },
  {
   "cell_type": "code",
   "execution_count": 34,
   "metadata": {},
   "outputs": [
    {
     "data": {
      "image/png": "[encoded data removed]",
      "text/plain": [
       "<Figure size 864x504 with 1 Axes>"
      ]
     },
     "metadata": {
      "needs_background": "light"
     },
     "output_type": "display_data"
    }
   ],
   "source": [
    "feature_imp = xgbc.feature_importances_.round(3)\n",
    "ser_rank = pd.Series(feature_imp, index=X.columns).sort_values(ascending = False)\n",
    "\n",
    "plt.figure(figsize=(12,7))\n",
    "sns.barplot(x= ser_rank.values, y = ser_rank.index, palette='deep')\n",
    "plt.xlabel('relative importance')\n",
    "plt.show()"
   ]
  },
  {
   "cell_type": "code",
   "execution_count": 56,
   "metadata": {},
   "outputs": [
    {
     "data": {
      "text/markdown": [
       "**Surprisingly the features that were determined to be important by the XGBoost classifier were very different from that of th Random Forest Classifier. \n",
       "The important features according to the XGBoost classifier are.**\n",
       "- Renew Offer Type \n",
       "- Policy \n",
       "- Employment Status\n"
      ],
      "text/plain": [
       "<IPython.core.display.Markdown object>"
      ]
     },
     "metadata": {},
     "output_type": "display_data"
    }
   ],
   "source": [
    "%%markdown \n",
    "**Surprisingly the features that were determined to be important by the XGBoost classifier were very different from that of th Random Forest Classifier. \n",
    "The important features according to the XGBoost classifier are.**\n",
    "- Renew Offer Type \n",
    "- Policy \n",
    "- Employment Status"
   ]
  },
  {
   "cell_type": "code",
   "execution_count": 14,
   "metadata": {},
   "outputs": [
    {
     "data": {
      "text/markdown": [
       "## Building a Neural Network Model \n"
      ],
      "text/plain": [
       "<IPython.core.display.Markdown object>"
      ]
     },
     "metadata": {},
     "output_type": "display_data"
    }
   ],
   "source": [
    "%%markdown \n",
    "## Building a Neural Network Model "
   ]
  },
  {
   "cell_type": "code",
   "execution_count": 15,
   "metadata": {},
   "outputs": [
    {
     "name": "stdout",
     "output_type": "stream",
     "text": [
      "Epoch 1/10\n",
      "1761/1761 [==============================] - 3s 2ms/step - loss: 0.5009 - accuracy: 0.7419\n",
      "Epoch 2/10\n",
      "1761/1761 [==============================] - 3s 2ms/step - loss: 0.3841 - accuracy: 0.8120\n",
      "Epoch 3/10\n",
      "1761/1761 [==============================] - 3s 2ms/step - loss: 0.3601 - accuracy: 0.8226\n",
      "Epoch 4/10\n",
      "1761/1761 [==============================] - 4s 2ms/step - loss: 0.3442 - accuracy: 0.8381\n",
      "Epoch 5/10\n",
      "1761/1761 [==============================] - 4s 2ms/step - loss: 0.3317 - accuracy: 0.8443\n",
      "Epoch 6/10\n",
      "1761/1761 [==============================] - 4s 2ms/step - loss: 0.3198 - accuracy: 0.8501\n",
      "Epoch 7/10\n",
      "1761/1761 [==============================] - 4s 2ms/step - loss: 0.3104 - accuracy: 0.8595\n",
      "Epoch 8/10\n",
      "1761/1761 [==============================] - 4s 2ms/step - loss: 0.3040 - accuracy: 0.8609\n",
      "Epoch 9/10\n",
      "1761/1761 [==============================] - 3s 2ms/step - loss: 0.2969 - accuracy: 0.8620\n",
      "Epoch 10/10\n",
      "1761/1761 [==============================] - 4s 2ms/step - loss: 0.2888 - accuracy: 0.8695\n",
      "441/441 [==============================] - 1s 1ms/step - loss: 0.2947 - accuracy: 0.8574\n",
      "Epoch 1/10\n",
      "1761/1761 [==============================] - 3s 2ms/step - loss: 0.4837 - accuracy: 0.7429: 0s - loss: 0.4\n",
      "Epoch 2/10\n",
      "1761/1761 [==============================] - 3s 2ms/step - loss: 0.3823 - accuracy: 0.8080\n",
      "Epoch 3/10\n",
      "1761/1761 [==============================] - 3s 2ms/step - loss: 0.3590 - accuracy: 0.8260\n",
      "Epoch 4/10\n",
      "1761/1761 [==============================] - 3s 2ms/step - loss: 0.3431 - accuracy: 0.8350\n",
      "Epoch 5/10\n",
      "1761/1761 [==============================] - 3s 2ms/step - loss: 0.3304 - accuracy: 0.8447\n",
      "Epoch 6/10\n",
      "1761/1761 [==============================] - 3s 2ms/step - loss: 0.3177 - accuracy: 0.8533\n",
      "Epoch 7/10\n",
      "1761/1761 [==============================] - 3s 2ms/step - loss: 0.3076 - accuracy: 0.8599\n",
      "Epoch 8/10\n",
      "1761/1761 [==============================] - 3s 2ms/step - loss: 0.2972 - accuracy: 0.8654\n",
      "Epoch 9/10\n",
      "1761/1761 [==============================] - 3s 2ms/step - loss: 0.2886 - accuracy: 0.8703\n",
      "Epoch 10/10\n",
      "1761/1761 [==============================] - 4s 2ms/step - loss: 0.2788 - accuracy: 0.8797\n",
      "441/441 [==============================] - 1s 2ms/step - loss: 0.3025 - accuracy: 0.8614\n",
      "Epoch 1/10\n",
      "1761/1761 [==============================] - 4s 2ms/step - loss: 0.5076 - accuracy: 0.7434\n",
      "Epoch 2/10\n",
      "1761/1761 [==============================] - 4s 2ms/step - loss: 0.3822 - accuracy: 0.8123\n",
      "Epoch 3/10\n",
      "1761/1761 [==============================] - 3s 2ms/step - loss: 0.3522 - accuracy: 0.8345\n",
      "Epoch 4/10\n",
      "1761/1761 [==============================] - 3s 2ms/step - loss: 0.3317 - accuracy: 0.8467\n",
      "Epoch 5/10\n",
      "1761/1761 [==============================] - 3s 2ms/step - loss: 0.3161 - accuracy: 0.8542\n",
      "Epoch 6/10\n",
      "1761/1761 [==============================] - 3s 2ms/step - loss: 0.3053 - accuracy: 0.8585\n",
      "Epoch 7/10\n",
      "1761/1761 [==============================] - 3s 2ms/step - loss: 0.2961 - accuracy: 0.8662\n",
      "Epoch 8/10\n",
      "1761/1761 [==============================] - 4s 2ms/step - loss: 0.2894 - accuracy: 0.8717\n",
      "Epoch 9/10\n",
      "1761/1761 [==============================] - 4s 2ms/step - loss: 0.2783 - accuracy: 0.8764\n",
      "Epoch 10/10\n",
      "1761/1761 [==============================] - 4s 2ms/step - loss: 0.2711 - accuracy: 0.8837: 0s -\n",
      "441/441 [==============================] - 1s 2ms/step - loss: 0.3209 - accuracy: 0.8596\n",
      "Epoch 1/10\n",
      "1761/1761 [==============================] - 3s 2ms/step - loss: 0.4974 - accuracy: 0.7389\n",
      "Epoch 2/10\n",
      "1761/1761 [==============================] - 4s 2ms/step - loss: 0.3861 - accuracy: 0.8067\n",
      "Epoch 3/10\n",
      "1761/1761 [==============================] - 4s 2ms/step - loss: 0.3574 - accuracy: 0.8298\n",
      "Epoch 4/10\n",
      "1761/1761 [==============================] - 3s 2ms/step - loss: 0.3371 - accuracy: 0.8425\n",
      "Epoch 5/10\n",
      "1761/1761 [==============================] - 3s 2ms/step - loss: 0.3222 - accuracy: 0.8501\n",
      "Epoch 6/10\n",
      "1761/1761 [==============================] - 3s 2ms/step - loss: 0.3079 - accuracy: 0.8616\n",
      "Epoch 7/10\n",
      "1761/1761 [==============================] - 3s 2ms/step - loss: 0.2946 - accuracy: 0.8694\n",
      "Epoch 8/10\n",
      "1761/1761 [==============================] - 3s 2ms/step - loss: 0.2831 - accuracy: 0.8753\n",
      "Epoch 9/10\n",
      "1761/1761 [==============================] - 3s 2ms/step - loss: 0.2757 - accuracy: 0.8804\n",
      "Epoch 10/10\n",
      "1761/1761 [==============================] - 3s 2ms/step - loss: 0.2666 - accuracy: 0.8879\n",
      "441/441 [==============================] - 1s 2ms/step - loss: 0.2948 - accuracy: 0.8714\n",
      "Epoch 1/10\n",
      "1761/1761 [==============================] - 3s 2ms/step - loss: 0.4963 - accuracy: 0.7414\n",
      "Epoch 2/10\n",
      "1761/1761 [==============================] - 4s 2ms/step - loss: 0.3859 - accuracy: 0.8085\n",
      "Epoch 3/10\n",
      "1761/1761 [==============================] - 3s 2ms/step - loss: 0.3582 - accuracy: 0.8301\n",
      "Epoch 4/10\n",
      "1761/1761 [==============================] - 3s 2ms/step - loss: 0.3416 - accuracy: 0.8387\n",
      "Epoch 5/10\n",
      "1761/1761 [==============================] - 3s 2ms/step - loss: 0.3273 - accuracy: 0.8483\n",
      "Epoch 6/10\n",
      "1761/1761 [==============================] - 3s 2ms/step - loss: 0.3144 - accuracy: 0.8545\n",
      "Epoch 7/10\n",
      "1761/1761 [==============================] - 3s 2ms/step - loss: 0.3051 - accuracy: 0.8619\n",
      "Epoch 8/10\n",
      "1761/1761 [==============================] - 3s 2ms/step - loss: 0.2973 - accuracy: 0.8661\n",
      "Epoch 9/10\n",
      "1761/1761 [==============================] - 3s 2ms/step - loss: 0.2894 - accuracy: 0.8668: 0s - loss:\n",
      "Epoch 10/10\n",
      "1761/1761 [==============================] - 3s 2ms/step - loss: 0.2822 - accuracy: 0.8744: 1s - l - ETA: 0s - loss: 0.283\n",
      "441/441 [==============================] - 1s 1ms/step - loss: 0.3201 - accuracy: 0.8532\n",
      "Baseline: 86.06% (0.61%)\n"
     ]
    }
   ],
   "source": [
    "x_check = X_train_res.values\n",
    "y_check = y_train_res\n",
    "def create_model():\n",
    "    # create model\n",
    "    model = Sequential()\n",
    "    model.add(Dense(15, input_dim=35, activation='relu'))\n",
    "    model.add(Dense(35,activation='relu'))\n",
    "    model.add(Dense(1, activation='sigmoid'))\n",
    "    # Compile model\n",
    "    model.compile(loss='binary_crossentropy', optimizer='adam', metrics=['accuracy'])\n",
    "    return model\n",
    "# evaluate model with standardized dataset\n",
    "estimator = KerasClassifier(build_fn=create_model, epochs=10, batch_size=5, verbose=1)\n",
    "kfold = StratifiedKFold(n_splits=5, shuffle=True)\n",
    "results = cross_val_score(estimator, x_check, y_check, cv=kfold)\n",
    "print(\"Baseline: %.2f%% (%.2f%%)\" % (results.mean()*100, results.std()*100))"
   ]
  },
  {
   "cell_type": "code",
   "execution_count": 25,
   "metadata": {},
   "outputs": [
    {
     "name": "stdout",
     "output_type": "stream",
     "text": [
      "Epoch 1/10\n",
      "2202/2202 [==============================] - 5s 2ms/step - loss: 0.4764 - accuracy: 0.7560\n",
      "Epoch 2/10\n",
      "2202/2202 [==============================] - 5s 2ms/step - loss: 0.3848 - accuracy: 0.8046\n",
      "Epoch 3/10\n",
      "2202/2202 [==============================] - 5s 2ms/step - loss: 0.3559 - accuracy: 0.8246\n",
      "Epoch 4/10\n",
      "2202/2202 [==============================] - 5s 2ms/step - loss: 0.3365 - accuracy: 0.8345\n",
      "Epoch 5/10\n",
      "2202/2202 [==============================] - 5s 2ms/step - loss: 0.3211 - accuracy: 0.8500\n",
      "Epoch 6/10\n",
      "2202/2202 [==============================] - 5s 2ms/step - loss: 0.3088 - accuracy: 0.8568\n",
      "Epoch 7/10\n",
      "2202/2202 [==============================] - 5s 2ms/step - loss: 0.2973 - accuracy: 0.8625\n",
      "Epoch 8/10\n",
      "2202/2202 [==============================] - 5s 2ms/step - loss: 0.2858 - accuracy: 0.8708\n",
      "Epoch 9/10\n",
      "2202/2202 [==============================] - 6s 3ms/step - loss: 0.2768 - accuracy: 0.8787\n",
      "Epoch 10/10\n",
      "2202/2202 [==============================] - 6s 3ms/step - loss: 0.2685 - accuracy: 0.8832\n"
     ]
    },
    {
     "data": {
      "text/plain": [
       "<tensorflow.python.keras.callbacks.History at 0x14bacae10>"
      ]
     },
     "execution_count": 25,
     "metadata": {},
     "output_type": "execute_result"
    }
   ],
   "source": [
    "estimator.fit(X_train_res,y_train_res)"
   ]
  },
  {
   "cell_type": "code",
   "execution_count": 26,
   "metadata": {},
   "outputs": [
    {
     "name": "stdout",
     "output_type": "stream",
     "text": [
      "WARNING:tensorflow:From /Users/abhijit/Desktop/GIT_Projects/clickthroughprediction/click_through_env/lib/python3.7/site-packages/tensorflow/python/keras/wrappers/scikit_learn.py:241: Sequential.predict_classes (from tensorflow.python.keras.engine.sequential) is deprecated and will be removed after 2021-01-01.\n",
      "Instructions for updating:\n",
      "Please use instead:* `np.argmax(model.predict(x), axis=-1)`,   if your model does multi-class classification   (e.g. if it uses a `softmax` last-layer activation).* `(model.predict(x) > 0.5).astype(\"int32\")`,   if your model does binary classification   (e.g. if it uses a `sigmoid` last-layer activation).\n",
      "549/549 [==============================] - 0s 822us/step\n",
      "              precision    recall  f1-score   support\n",
      "\n",
      "           0       0.86      0.93      0.89      2148\n",
      "           1       0.63      0.44      0.52       593\n",
      "\n",
      "    accuracy                           0.82      2741\n",
      "   macro avg       0.74      0.69      0.71      2741\n",
      "weighted avg       0.81      0.82      0.81      2741\n",
      "\n"
     ]
    }
   ],
   "source": [
    "y_nn_pred = estimator.predict(X_test)\n",
    "print(classification_report(y_nn_pred, y_test))"
   ]
  },
  {
   "cell_type": "code",
   "execution_count": 40,
   "metadata": {},
   "outputs": [
    {
     "data": {
      "text/markdown": [
       "\n",
       "## Conclusions\n",
       "\n",
       "### The XGBoost Classifier performs the best among all the models with the highest F1 score of 0.95. \n",
       "\n",
       "For measuring the accuracy of a classification model it is important to check for the precision and recall of all the classes being classified. In our case, since we initially had an undersampled class, it is especially importantant to look for wrong predictions of the undersampled class. \n",
       "We see issues with incorrect and not so great precdictions with the Logistic Regression and the Support Vector Classifier. \n",
       "The Neural Network also does not do great with the initial tuning. The Neural Network also takes much more time than the XGBoost and so it does not seem to be a feasible option. \n",
       "\n",
       "I therefore decide to move ahead with the **XGBoost Classifier** as my final model. \n"
      ],
      "text/plain": [
       "<IPython.core.display.Markdown object>"
      ]
     },
     "metadata": {},
     "output_type": "display_data"
    }
   ],
   "source": [
    "%%markdown\n",
    "\n",
    "## Conclusions\n",
    "\n",
    "### The XGBoost Classifier performs the best among all the models with the highest F1 score of 0.95. \n",
    "\n",
    "For measuring the accuracy of a classification model it is important to check for the precision and recall of all the classes being classified. In our case, since we initially had an undersampled class, it is especially importantant to look for wrong predictions of the undersampled class. \n",
    "We see issues with incorrect and not so great precdictions with the Logistic Regression and the Support Vector Classifier. \n",
    "The Neural Network also does not do great with the initial tuning. The Neural Network also takes much more time than the XGBoost and so it does not seem to be a feasible option. \n",
    "\n",
    "I therefore decide to move ahead with the **XGBoost Classifier** as my final model. \n"
   ]
  },
  {
   "cell_type": "code",
   "execution_count": 37,
   "metadata": {},
   "outputs": [
    {
     "name": "stdout",
     "output_type": "stream",
     "text": [
      "0.004\n"
     ]
    }
   ],
   "source": [
    "from math import sqrt\n",
    "interval = 1.96 * sqrt( (cross_val_score_xgbc['test_score'].mean() * (1 - cross_val_score_xgbc['test_score'].mean())) / y_train_res.shape[0])\n",
    "print('%.3f' % interval)"
   ]
  },
  {
   "cell_type": "code",
   "execution_count": 39,
   "metadata": {},
   "outputs": [
    {
     "data": {
      "text/markdown": [
       "Therefore the Confidence Interval of the XGBoost classification model is **0.95 +/- 0.004.**\n"
      ],
      "text/plain": [
       "<IPython.core.display.Markdown object>"
      ]
     },
     "metadata": {},
     "output_type": "display_data"
    }
   ],
   "source": [
    "%%markdown\n",
    "Therefore the Confidence Interval of the XGBoost classification model is **0.95 +/- 0.004.**"
   ]
  },
  {
   "cell_type": "code",
   "execution_count": null,
   "metadata": {},
   "outputs": [],
   "source": []
  }
 ],
 "metadata": {
  "kernelspec": {
   "display_name": "click_through_env",
   "language": "python",
   "name": "click_through_env"
  },
  "language_info": {
   "codemirror_mode": {
    "name": "ipython",
    "version": 3
   },
   "file_extension": ".py",
   "mimetype": "text/x-python",
   "name": "python",
   "nbconvert_exporter": "python",
   "pygments_lexer": "ipython3",
   "version": "3.7.6"
  }
 },
 "nbformat": 4,
 "nbformat_minor": 4
}

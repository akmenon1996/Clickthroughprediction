{
 "cells": [
  {
   "cell_type": "code",
   "execution_count": 12,
   "metadata": {},
   "outputs": [],
   "source": [
    "import pandas as pd\n",
    "import numpy as np \n",
    "import matplotlib.pyplot as plt\n",
    "import os \n",
    "import seaborn as sns \n",
    "import sklearn as skl\n",
    "from imblearn.over_sampling import SMOTE\n",
    "from scipy.stats import norm \n",
    "import statsmodels.api as sm\n",
    "from sklearn.preprocessing import StandardScaler \n",
    "from sklearn.model_selection import train_test_split,cross_validate\n",
    "from sklearn.linear_model import LogisticRegression  \n",
    "from sklearn.metrics import confusion_matrix, classification_report\n",
    "import warnings  \n",
    "warnings.filterwarnings('ignore') \n",
    "%matplotlib inline "
   ]
  },
  {
   "cell_type": "code",
   "execution_count": 2,
   "metadata": {},
   "outputs": [
    {
     "data": {
      "text/html": [
       "<div>\n",
       "<style scoped>\n",
       "    .dataframe tbody tr th:only-of-type {\n",
       "        vertical-align: middle;\n",
       "    }\n",
       "\n",
       "    .dataframe tbody tr th {\n",
       "        vertical-align: top;\n",
       "    }\n",
       "\n",
       "    .dataframe thead th {\n",
       "        text-align: right;\n",
       "    }\n",
       "</style>\n",
       "<table border=\"1\" class=\"dataframe\">\n",
       "  <thead>\n",
       "    <tr style=\"text-align: right;\">\n",
       "      <th></th>\n",
       "      <th>Income</th>\n",
       "      <th>Monthly Premium Auto</th>\n",
       "      <th>Total Claim Amount</th>\n",
       "      <th>Coverage_1</th>\n",
       "      <th>Coverage_2</th>\n",
       "      <th>Education_1</th>\n",
       "      <th>Education_2</th>\n",
       "      <th>Education_3</th>\n",
       "      <th>Education_4</th>\n",
       "      <th>EmploymentStatus_1</th>\n",
       "      <th>...</th>\n",
       "      <th>Renew Offer Type_2</th>\n",
       "      <th>Renew Offer Type_3</th>\n",
       "      <th>Vehicle Class_1</th>\n",
       "      <th>Vehicle Class_2</th>\n",
       "      <th>Vehicle Class_3</th>\n",
       "      <th>Vehicle Class_4</th>\n",
       "      <th>Vehicle Class_5</th>\n",
       "      <th>Vehicle Size_1</th>\n",
       "      <th>Vehicle Size_2</th>\n",
       "      <th>Response</th>\n",
       "    </tr>\n",
       "  </thead>\n",
       "  <tbody>\n",
       "    <tr>\n",
       "      <th>0</th>\n",
       "      <td>0.612827</td>\n",
       "      <td>-0.703925</td>\n",
       "      <td>-0.169640</td>\n",
       "      <td>0</td>\n",
       "      <td>0</td>\n",
       "      <td>0</td>\n",
       "      <td>0</td>\n",
       "      <td>0</td>\n",
       "      <td>0</td>\n",
       "      <td>1</td>\n",
       "      <td>...</td>\n",
       "      <td>0</td>\n",
       "      <td>0</td>\n",
       "      <td>0</td>\n",
       "      <td>0</td>\n",
       "      <td>0</td>\n",
       "      <td>0</td>\n",
       "      <td>1</td>\n",
       "      <td>1</td>\n",
       "      <td>0</td>\n",
       "      <td>0</td>\n",
       "    </tr>\n",
       "    <tr>\n",
       "      <th>1</th>\n",
       "      <td>-1.239617</td>\n",
       "      <td>0.022691</td>\n",
       "      <td>2.400737</td>\n",
       "      <td>1</td>\n",
       "      <td>0</td>\n",
       "      <td>0</td>\n",
       "      <td>0</td>\n",
       "      <td>0</td>\n",
       "      <td>0</td>\n",
       "      <td>0</td>\n",
       "      <td>...</td>\n",
       "      <td>1</td>\n",
       "      <td>0</td>\n",
       "      <td>0</td>\n",
       "      <td>0</td>\n",
       "      <td>0</td>\n",
       "      <td>0</td>\n",
       "      <td>0</td>\n",
       "      <td>1</td>\n",
       "      <td>0</td>\n",
       "      <td>0</td>\n",
       "    </tr>\n",
       "    <tr>\n",
       "      <th>2</th>\n",
       "      <td>0.365710</td>\n",
       "      <td>0.429596</td>\n",
       "      <td>0.455734</td>\n",
       "      <td>0</td>\n",
       "      <td>1</td>\n",
       "      <td>0</td>\n",
       "      <td>0</td>\n",
       "      <td>0</td>\n",
       "      <td>0</td>\n",
       "      <td>1</td>\n",
       "      <td>...</td>\n",
       "      <td>0</td>\n",
       "      <td>0</td>\n",
       "      <td>0</td>\n",
       "      <td>0</td>\n",
       "      <td>0</td>\n",
       "      <td>0</td>\n",
       "      <td>1</td>\n",
       "      <td>1</td>\n",
       "      <td>0</td>\n",
       "      <td>0</td>\n",
       "    </tr>\n",
       "    <tr>\n",
       "      <th>3</th>\n",
       "      <td>-1.239617</td>\n",
       "      <td>0.371467</td>\n",
       "      <td>0.329769</td>\n",
       "      <td>0</td>\n",
       "      <td>0</td>\n",
       "      <td>0</td>\n",
       "      <td>0</td>\n",
       "      <td>0</td>\n",
       "      <td>0</td>\n",
       "      <td>0</td>\n",
       "      <td>...</td>\n",
       "      <td>0</td>\n",
       "      <td>0</td>\n",
       "      <td>0</td>\n",
       "      <td>0</td>\n",
       "      <td>1</td>\n",
       "      <td>0</td>\n",
       "      <td>0</td>\n",
       "      <td>1</td>\n",
       "      <td>0</td>\n",
       "      <td>0</td>\n",
       "    </tr>\n",
       "    <tr>\n",
       "      <th>4</th>\n",
       "      <td>0.203390</td>\n",
       "      <td>-0.587666</td>\n",
       "      <td>-1.018843</td>\n",
       "      <td>0</td>\n",
       "      <td>0</td>\n",
       "      <td>0</td>\n",
       "      <td>0</td>\n",
       "      <td>0</td>\n",
       "      <td>0</td>\n",
       "      <td>1</td>\n",
       "      <td>...</td>\n",
       "      <td>0</td>\n",
       "      <td>0</td>\n",
       "      <td>0</td>\n",
       "      <td>0</td>\n",
       "      <td>0</td>\n",
       "      <td>0</td>\n",
       "      <td>0</td>\n",
       "      <td>1</td>\n",
       "      <td>0</td>\n",
       "      <td>0</td>\n",
       "    </tr>\n",
       "  </tbody>\n",
       "</table>\n",
       "<p>5 rows × 36 columns</p>\n",
       "</div>"
      ],
      "text/plain": [
       "     Income  Monthly Premium Auto  Total Claim Amount  Coverage_1  Coverage_2  \\\n",
       "0  0.612827             -0.703925           -0.169640           0           0   \n",
       "1 -1.239617              0.022691            2.400737           1           0   \n",
       "2  0.365710              0.429596            0.455734           0           1   \n",
       "3 -1.239617              0.371467            0.329769           0           0   \n",
       "4  0.203390             -0.587666           -1.018843           0           0   \n",
       "\n",
       "   Education_1  Education_2  Education_3  Education_4  EmploymentStatus_1  \\\n",
       "0            0            0            0            0                   1   \n",
       "1            0            0            0            0                   0   \n",
       "2            0            0            0            0                   1   \n",
       "3            0            0            0            0                   0   \n",
       "4            0            0            0            0                   1   \n",
       "\n",
       "   ...  Renew Offer Type_2  Renew Offer Type_3  Vehicle Class_1  \\\n",
       "0  ...                   0                   0                0   \n",
       "1  ...                   1                   0                0   \n",
       "2  ...                   0                   0                0   \n",
       "3  ...                   0                   0                0   \n",
       "4  ...                   0                   0                0   \n",
       "\n",
       "   Vehicle Class_2  Vehicle Class_3  Vehicle Class_4  Vehicle Class_5  \\\n",
       "0                0                0                0                1   \n",
       "1                0                0                0                0   \n",
       "2                0                0                0                1   \n",
       "3                0                1                0                0   \n",
       "4                0                0                0                0   \n",
       "\n",
       "   Vehicle Size_1  Vehicle Size_2  Response  \n",
       "0               1               0         0  \n",
       "1               1               0         0  \n",
       "2               1               0         0  \n",
       "3               1               0         0  \n",
       "4               1               0         0  \n",
       "\n",
       "[5 rows x 36 columns]"
      ]
     },
     "execution_count": 2,
     "metadata": {},
     "output_type": "execute_result"
    }
   ],
   "source": [
    "data = pd.read_csv('created_data/feature_engineered_data.csv')\n",
    "data.head()"
   ]
  },
  {
   "cell_type": "code",
   "execution_count": 3,
   "metadata": {},
   "outputs": [],
   "source": [
    "X = data.drop(['Response'],axis= 1)\n",
    "y = data['Response']"
   ]
  },
  {
   "cell_type": "code",
   "execution_count": 4,
   "metadata": {},
   "outputs": [
    {
     "name": "stdout",
     "output_type": "stream",
     "text": [
      "Shape of X_train dataset:  (6393, 35)\n",
      "Shape of y_train dataset:  (6393,)\n",
      "Shape of X_test dataset:  (2741, 35)\n",
      "Shape of y_test dataset:  (2741,)\n"
     ]
    }
   ],
   "source": [
    "# split into 70:30 ration \n",
    "X_train, X_test, y_train, y_test = train_test_split(X, y, test_size = 0.3, random_state = 0) \n",
    "  \n",
    "# describes info about train and test set \n",
    "print(\"Shape of X_train dataset: \", X_train.shape) \n",
    "print(\"Shape of y_train dataset: \", y_train.shape) \n",
    "print(\"Shape of X_test dataset: \", X_test.shape) \n",
    "print(\"Shape of y_test dataset: \", y_test.shape) "
   ]
  },
  {
   "cell_type": "code",
   "execution_count": 10,
   "metadata": {},
   "outputs": [
    {
     "name": "stdout",
     "output_type": "stream",
     "text": [
      "              precision    recall  f1-score   support\n",
      "\n",
      "           0       0.87      0.99      0.92      2323\n",
      "           1       0.75      0.15      0.25       418\n",
      "\n",
      "    accuracy                           0.86      2741\n",
      "   macro avg       0.81      0.57      0.59      2741\n",
      "weighted avg       0.85      0.86      0.82      2741\n",
      "\n"
     ]
    }
   ],
   "source": [
    "# logistic regression object \n",
    "lr = LogisticRegression() \n",
    "  \n",
    "# train the model on train set \n",
    "lr.fit(X_train, y_train.ravel()) \n",
    "  \n",
    "predictions = lr.predict(X_test) \n",
    "  \n",
    "# print classification report \n",
    "print(classification_report(y_test, predictions))"
   ]
  },
  {
   "cell_type": "code",
   "execution_count": 5,
   "metadata": {},
   "outputs": [
    {
     "name": "stdout",
     "output_type": "stream",
     "text": [
      "Before OverSampling, counts of label '1': 890\n",
      "Before OverSampling, counts of label '0': 5503 \n",
      "\n"
     ]
    }
   ],
   "source": [
    "print(\"Before OverSampling, counts of label '1': {}\".format(sum(y_train == 1))) \n",
    "print(\"Before OverSampling, counts of label '0': {} \\n\".format(sum(y_train == 0)))\n",
    "\n"
   ]
  },
  {
   "cell_type": "code",
   "execution_count": 6,
   "metadata": {},
   "outputs": [
    {
     "data": {
      "text/markdown": [
       "\n",
       "### Since there is a significant difference in the number of people who responded vs those who did not, it is necessary for us to over sample the number of people who responded. \n",
       "\n",
       "### This is important to avoid the generalization of the overasampled class(0) by ML models. Since the oversampled class makes up for the majority of the data, ML models will tend to be biased towards that class during prediction. \n"
      ],
      "text/plain": [
       "<IPython.core.display.Markdown object>"
      ]
     },
     "metadata": {},
     "output_type": "display_data"
    }
   ],
   "source": [
    "%%markdown\n",
    "\n",
    "### Since there is a significant difference in the number of people who responded vs those who did not, it is necessary for us to over sample the number of people who responded. \n",
    "\n",
    "### This is important to avoid the generalization of the overasampled class(0) by ML models. Since the oversampled class makes up for the majority of the data, ML models will tend to be biased towards that class during prediction. "
   ]
  },
  {
   "cell_type": "code",
   "execution_count": 7,
   "metadata": {},
   "outputs": [
    {
     "name": "stdout",
     "output_type": "stream",
     "text": [
      "After OverSampling, the shape of train_X: (11006, 35)\n",
      "After OverSampling, the shape of train_y: (11006,) \n",
      "\n",
      "After OverSampling, counts of label '1': 5503\n",
      "After OverSampling, counts of label '0': 5503\n"
     ]
    }
   ],
   "source": [
    "sm = SMOTE(random_state = 2) \n",
    "X_train_res, y_train_res = sm.fit_sample(X_train, y_train.ravel()) \n",
    "  \n",
    "print('After OverSampling, the shape of train_X: {}'.format(X_train_res.shape)) \n",
    "print('After OverSampling, the shape of train_y: {} \\n'.format(y_train_res.shape)) \n",
    "  \n",
    "print(\"After OverSampling, counts of label '1': {}\".format(sum(y_train_res == 1))) \n",
    "print(\"After OverSampling, counts of label '0': {}\".format(sum(y_train_res == 0)))"
   ]
  },
  {
   "cell_type": "code",
   "execution_count": 9,
   "metadata": {},
   "outputs": [
    {
     "name": "stdout",
     "output_type": "stream",
     "text": [
      "              precision    recall  f1-score   support\n",
      "\n",
      "           0       0.90      0.85      0.87      2323\n",
      "           1       0.35      0.46      0.40       418\n",
      "\n",
      "    accuracy                           0.79      2741\n",
      "   macro avg       0.62      0.65      0.64      2741\n",
      "weighted avg       0.81      0.79      0.80      2741\n",
      "\n"
     ]
    }
   ],
   "source": [
    "lr1 = LogisticRegression() \n",
    "lr1.fit(X_train_res, y_train_res.ravel()) \n",
    "predictions = lr1.predict(X_test) \n",
    "  \n",
    "# print classification report \n",
    "print(classification_report(y_test, predictions))"
   ]
  },
  {
   "cell_type": "code",
   "execution_count": 17,
   "metadata": {},
   "outputs": [
    {
     "name": "stdout",
     "output_type": "stream",
     "text": [
      "[[2015  155]\n",
      " [ 308  263]]\n",
      "accuracy_score: 0.8310835461510397\n",
      "              precision    recall  f1-score   support\n",
      "\n",
      "           0       0.87      0.93      0.90      2170\n",
      "           1       0.63      0.46      0.53       571\n",
      "\n",
      "    accuracy                           0.83      2741\n",
      "   macro avg       0.75      0.69      0.71      2741\n",
      "weighted avg       0.82      0.83      0.82      2741\n",
      "\n",
      "Cross validation test_score 0.8800739157042397\n"
     ]
    }
   ],
   "source": [
    "from sklearn.metrics import confusion_matrix, accuracy_score, classification_report\n",
    "from sklearn.svm import SVC\n",
    "\n",
    "svc = SVC()\n",
    "svc.fit(X_train_res, y_train_res)\n",
    "svc_pred = svc.predict(X_test)\n",
    "\n",
    "print(confusion_matrix(svc_pred,y_test))\n",
    "print('accuracy_score:',accuracy_score(svc_pred, y_test))\n",
    "print(classification_report(svc_pred, y_test))\n",
    "\n",
    "cross_val_score_svc = cross_validate(svc, X_train_res, y_train_res,cv = 5)\n",
    "print('Cross validation test_score',cross_val_score_svc['test_score'].mean())"
   ]
  },
  {
   "cell_type": "code",
   "execution_count": 18,
   "metadata": {},
   "outputs": [
    {
     "name": "stdout",
     "output_type": "stream",
     "text": [
      "[[2245   96]\n",
      " [  78  322]]\n",
      "Accuracy score: 0.9365195184239329\n",
      "              precision    recall  f1-score   support\n",
      "\n",
      "           0       0.97      0.96      0.96      2341\n",
      "           1       0.77      0.81      0.79       400\n",
      "\n",
      "    accuracy                           0.94      2741\n",
      "   macro avg       0.87      0.88      0.87      2741\n",
      "weighted avg       0.94      0.94      0.94      2741\n",
      "\n",
      "Cross validation test_score 0.9574819223860345\n"
     ]
    }
   ],
   "source": [
    "from sklearn.ensemble import RandomForestClassifier\n",
    "rfc = RandomForestClassifier()\n",
    "rfc.fit(X_train_res, y_train_res)\n",
    "rfc_pred = rfc.predict(X_test)\n",
    "\n",
    "print(confusion_matrix(rfc_pred,y_test))\n",
    "print('Accuracy score:',accuracy_score(rfc_pred, y_test))\n",
    "print(classification_report(rfc_pred, y_test))\n",
    "\n",
    "cross_val_score_rfc = cross_validate(rfc, X_train_res, y_train_res,cv = 5)\n",
    "\n",
    "print('Cross validation test_score',cross_val_score_rfc['test_score'].mean())"
   ]
  },
  {
   "cell_type": "code",
   "execution_count": 19,
   "metadata": {},
   "outputs": [
    {
     "data": {
      "image/png": "[encoded data removed]",
      "text/plain": [
       "<Figure size 864x504 with 1 Axes>"
      ]
     },
     "metadata": {
      "needs_background": "light"
     },
     "output_type": "display_data"
    }
   ],
   "source": [
    "feature_imp = rfc.feature_importances_.round(3)\n",
    "ser_rank = pd.Series(feature_imp, index=X.columns).sort_values(ascending = False)\n",
    "\n",
    "plt.figure(figsize=(12,7))\n",
    "sns.barplot(x= ser_rank.values, y = ser_rank.index, palette='deep')\n",
    "plt.xlabel('relative importance')\n",
    "plt.show()"
   ]
  },
  {
   "cell_type": "code",
   "execution_count": 22,
   "metadata": {},
   "outputs": [
    {
     "name": "stdout",
     "output_type": "stream",
     "text": [
      "[[2216   36]\n",
      " [ 107  382]]\n",
      "Accuracy score: 0.9478292593943816\n",
      "              precision    recall  f1-score   support\n",
      "\n",
      "           0       0.95      0.98      0.97      2252\n",
      "           1       0.91      0.78      0.84       489\n",
      "\n",
      "    accuracy                           0.95      2741\n",
      "   macro avg       0.93      0.88      0.91      2741\n",
      "weighted avg       0.95      0.95      0.95      2741\n",
      "\n",
      "Cross validation test_score 0.9556625858694401\n"
     ]
    }
   ],
   "source": [
    "from numpy import loadtxt\n",
    "from xgboost import XGBClassifier\n",
    "from sklearn.model_selection import train_test_split\n",
    "from sklearn.metrics import accuracy_score\n",
    "\n",
    "xgbc = XGBClassifier()\n",
    "xgbc.fit(X_train_res, y_train_res)\n",
    "xgbc_pred = xgbc.predict(X_test)\n",
    "\n",
    "print(confusion_matrix(xgbc_pred,y_test))\n",
    "print('Accuracy score:',accuracy_score(xgbc_pred, y_test))\n",
    "print(classification_report(xgbc_pred, y_test))\n",
    "\n",
    "cross_val_score_rfc = cross_validate(xgbc, X_train_res, y_train_res,cv = 5)\n",
    "\n",
    "print('Cross validation test_score',cross_val_score_rfc['test_score'].mean())"
   ]
  },
  {
   "cell_type": "code",
   "execution_count": 23,
   "metadata": {},
   "outputs": [
    {
     "data": {
      "text/plain": [
       "array([[9.9626267e-01, 3.7373174e-03],\n",
       "       [9.9523115e-01, 4.7688587e-03],\n",
       "       [9.2373437e-01, 7.6265633e-02],\n",
       "       ...,\n",
       "       [9.9513847e-01, 4.8615611e-03],\n",
       "       [9.9984449e-01, 1.5553636e-04],\n",
       "       [3.1467849e-01, 6.8532151e-01]], dtype=float32)"
      ]
     },
     "execution_count": 23,
     "metadata": {},
     "output_type": "execute_result"
    }
   ],
   "source": [
    "xgbc.predict_proba(X_test)"
   ]
  },
  {
   "cell_type": "code",
   "execution_count": 21,
   "metadata": {},
   "outputs": [
    {
     "data": {
      "image/png": "[encoded data removed]",
      "text/plain": [
       "<Figure size 864x504 with 1 Axes>"
      ]
     },
     "metadata": {
      "needs_background": "light"
     },
     "output_type": "display_data"
    }
   ],
   "source": [
    "feature_imp = xgbc.feature_importances_.round(3)\n",
    "ser_rank = pd.Series(feature_imp, index=X.columns).sort_values(ascending = False)\n",
    "\n",
    "plt.figure(figsize=(12,7))\n",
    "sns.barplot(x= ser_rank.values, y = ser_rank.index, palette='deep')\n",
    "plt.xlabel('relative importance')\n",
    "plt.show()"
   ]
  },
  {
   "cell_type": "code",
   "execution_count": null,
   "metadata": {},
   "outputs": [],
   "source": []
  }
 ],
 "metadata": {
  "kernelspec": {
   "display_name": "click_through_env",
   "language": "python",
   "name": "click_through_env"
  },
  "language_info": {
   "codemirror_mode": {
    "name": "ipython",
    "version": 3
   },
   "file_extension": ".py",
   "mimetype": "text/x-python",
   "name": "python",
   "nbconvert_exporter": "python",
   "pygments_lexer": "ipython3",
   "version": "3.7.6"
  }
 },
 "nbformat": 4,
 "nbformat_minor": 4
}
